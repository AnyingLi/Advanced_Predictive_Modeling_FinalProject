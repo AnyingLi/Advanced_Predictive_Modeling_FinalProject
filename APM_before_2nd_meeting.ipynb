{
 "cells": [
  {
   "cell_type": "markdown",
   "metadata": {},
   "source": [
    "## 1. Meta Data Summary"
   ]
  },
  {
   "cell_type": "markdown",
   "metadata": {},
   "source": [
    "Source: https://www.kaggle.com/c/outbrain-click-prediction/forums/t/24332/data-summary-all-tables"
   ]
  },
  {
   "cell_type": "code",
   "execution_count": 82,
   "metadata": {
    "collapsed": false
   },
   "outputs": [
    {
     "data": {
      "text/html": [
       "<div>\n",
       "<table border=\"1\" class=\"dataframe\">\n",
       "  <thead>\n",
       "    <tr style=\"text-align: right;\">\n",
       "      <th></th>\n",
       "      <th>table_name</th>\n",
       "      <th>group_by</th>\n",
       "      <th>group_by_value</th>\n",
       "      <th>target_column</th>\n",
       "      <th>column_number</th>\n",
       "      <th>data_type</th>\n",
       "      <th>row_count</th>\n",
       "      <th>distinct_values</th>\n",
       "      <th>missing_values</th>\n",
       "      <th>blank_values</th>\n",
       "      <th>...</th>\n",
       "      <th>fraction_blank</th>\n",
       "      <th>mean</th>\n",
       "      <th>variance</th>\n",
       "      <th>min</th>\n",
       "      <th>max</th>\n",
       "      <th>first_quartile</th>\n",
       "      <th>median</th>\n",
       "      <th>third_quartile</th>\n",
       "      <th>most_frequent_values</th>\n",
       "      <th>mfv_frequencies</th>\n",
       "    </tr>\n",
       "  </thead>\n",
       "  <tbody>\n",
       "    <tr>\n",
       "      <th>0</th>\n",
       "      <td>clicks_train</td>\n",
       "      <td>NaN</td>\n",
       "      <td>NaN</td>\n",
       "      <td>display_id</td>\n",
       "      <td>1</td>\n",
       "      <td>text</td>\n",
       "      <td>87141731</td>\n",
       "      <td>16874593</td>\n",
       "      <td>0</td>\n",
       "      <td>0.0</td>\n",
       "      <td>...</td>\n",
       "      <td>0.0</td>\n",
       "      <td>NaN</td>\n",
       "      <td>NaN</td>\n",
       "      <td>1.0</td>\n",
       "      <td>8.0</td>\n",
       "      <td>NaN</td>\n",
       "      <td>NaN</td>\n",
       "      <td>NaN</td>\n",
       "      <td>{1830897,1834278,1836704,1836878,1834701,18328...</td>\n",
       "      <td>{85403,85363,85352,85297,85268,85267,85252,851...</td>\n",
       "    </tr>\n",
       "    <tr>\n",
       "      <th>1</th>\n",
       "      <td>clicks_train</td>\n",
       "      <td>NaN</td>\n",
       "      <td>NaN</td>\n",
       "      <td>ad_id</td>\n",
       "      <td>2</td>\n",
       "      <td>text</td>\n",
       "      <td>87141731</td>\n",
       "      <td>478950</td>\n",
       "      <td>0</td>\n",
       "      <td>0.0</td>\n",
       "      <td>...</td>\n",
       "      <td>0.0</td>\n",
       "      <td>NaN</td>\n",
       "      <td>NaN</td>\n",
       "      <td>1.0</td>\n",
       "      <td>6.0</td>\n",
       "      <td>NaN</td>\n",
       "      <td>NaN</td>\n",
       "      <td>NaN</td>\n",
       "      <td>{173005,123742,180923,151028,173006,138353,347...</td>\n",
       "      <td>{269177,246080,231818,228730,219236,195557,186...</td>\n",
       "    </tr>\n",
       "    <tr>\n",
       "      <th>2</th>\n",
       "      <td>clicks_train</td>\n",
       "      <td>NaN</td>\n",
       "      <td>NaN</td>\n",
       "      <td>clicked</td>\n",
       "      <td>3</td>\n",
       "      <td>text</td>\n",
       "      <td>87141731</td>\n",
       "      <td>2</td>\n",
       "      <td>0</td>\n",
       "      <td>0.0</td>\n",
       "      <td>...</td>\n",
       "      <td>0.0</td>\n",
       "      <td>NaN</td>\n",
       "      <td>NaN</td>\n",
       "      <td>1.0</td>\n",
       "      <td>1.0</td>\n",
       "      <td>NaN</td>\n",
       "      <td>NaN</td>\n",
       "      <td>NaN</td>\n",
       "      <td>{0,1}</td>\n",
       "      <td>{70267138,16874593}</td>\n",
       "    </tr>\n",
       "    <tr>\n",
       "      <th>3</th>\n",
       "      <td>documents_categories</td>\n",
       "      <td>NaN</td>\n",
       "      <td>NaN</td>\n",
       "      <td>document_id</td>\n",
       "      <td>1</td>\n",
       "      <td>text</td>\n",
       "      <td>5481475</td>\n",
       "      <td>2828649</td>\n",
       "      <td>0</td>\n",
       "      <td>0.0</td>\n",
       "      <td>...</td>\n",
       "      <td>0.0</td>\n",
       "      <td>NaN</td>\n",
       "      <td>NaN</td>\n",
       "      <td>1.0</td>\n",
       "      <td>7.0</td>\n",
       "      <td>NaN</td>\n",
       "      <td>NaN</td>\n",
       "      <td>NaN</td>\n",
       "      <td>{1405282,1530506,2063154,1439841,1629124,17452...</td>\n",
       "      <td>{5396,5396,5377,5370,5370,5369,5368,5362,5356,...</td>\n",
       "    </tr>\n",
       "    <tr>\n",
       "      <th>4</th>\n",
       "      <td>documents_categories</td>\n",
       "      <td>NaN</td>\n",
       "      <td>NaN</td>\n",
       "      <td>category_id</td>\n",
       "      <td>2</td>\n",
       "      <td>text</td>\n",
       "      <td>5481475</td>\n",
       "      <td>97</td>\n",
       "      <td>0</td>\n",
       "      <td>0.0</td>\n",
       "      <td>...</td>\n",
       "      <td>0.0</td>\n",
       "      <td>NaN</td>\n",
       "      <td>NaN</td>\n",
       "      <td>4.0</td>\n",
       "      <td>4.0</td>\n",
       "      <td>NaN</td>\n",
       "      <td>NaN</td>\n",
       "      <td>NaN</td>\n",
       "      <td>{1403,1702,1902,1513,1808,1100,1907,2004,1408,...</td>\n",
       "      <td>{572107,408499,292878,276203,241966,212249,181...</td>\n",
       "    </tr>\n",
       "  </tbody>\n",
       "</table>\n",
       "<p>5 rows × 21 columns</p>\n",
       "</div>"
      ],
      "text/plain": [
       "             table_name  group_by  group_by_value target_column  \\\n",
       "0          clicks_train       NaN             NaN    display_id   \n",
       "1          clicks_train       NaN             NaN         ad_id   \n",
       "2          clicks_train       NaN             NaN       clicked   \n",
       "3  documents_categories       NaN             NaN   document_id   \n",
       "4  documents_categories       NaN             NaN   category_id   \n",
       "\n",
       "   column_number data_type  row_count  distinct_values  missing_values  \\\n",
       "0              1      text   87141731         16874593               0   \n",
       "1              2      text   87141731           478950               0   \n",
       "2              3      text   87141731                2               0   \n",
       "3              1      text    5481475          2828649               0   \n",
       "4              2      text    5481475               97               0   \n",
       "\n",
       "   blank_values                        ...                          \\\n",
       "0           0.0                        ...                           \n",
       "1           0.0                        ...                           \n",
       "2           0.0                        ...                           \n",
       "3           0.0                        ...                           \n",
       "4           0.0                        ...                           \n",
       "\n",
       "   fraction_blank  mean  variance  min  max  first_quartile  median  \\\n",
       "0             0.0   NaN       NaN  1.0  8.0             NaN     NaN   \n",
       "1             0.0   NaN       NaN  1.0  6.0             NaN     NaN   \n",
       "2             0.0   NaN       NaN  1.0  1.0             NaN     NaN   \n",
       "3             0.0   NaN       NaN  1.0  7.0             NaN     NaN   \n",
       "4             0.0   NaN       NaN  4.0  4.0             NaN     NaN   \n",
       "\n",
       "   third_quartile                               most_frequent_values  \\\n",
       "0             NaN  {1830897,1834278,1836704,1836878,1834701,18328...   \n",
       "1             NaN  {173005,123742,180923,151028,173006,138353,347...   \n",
       "2             NaN                                              {0,1}   \n",
       "3             NaN  {1405282,1530506,2063154,1439841,1629124,17452...   \n",
       "4             NaN  {1403,1702,1902,1513,1808,1100,1907,2004,1408,...   \n",
       "\n",
       "                                     mfv_frequencies  \n",
       "0  {85403,85363,85352,85297,85268,85267,85252,851...  \n",
       "1  {269177,246080,231818,228730,219236,195557,186...  \n",
       "2                                {70267138,16874593}  \n",
       "3  {5396,5396,5377,5370,5370,5369,5368,5362,5356,...  \n",
       "4  {572107,408499,292878,276203,241966,212249,181...  \n",
       "\n",
       "[5 rows x 21 columns]"
      ]
     },
     "execution_count": 82,
     "metadata": {},
     "output_type": "execute_result"
    }
   ],
   "source": [
    "import pandas as pd\n",
    "summary = pd.read_csv('data_summary.csv')\n",
    "summary.head()"
   ]
  },
  {
   "cell_type": "markdown",
   "metadata": {},
   "source": [
    "### !!! the 'document_id' in the events.csv and the variable 'document_id' in the promoted_content.csv are not referring to the same thing"
   ]
  },
  {
   "cell_type": "code",
   "execution_count": 14,
   "metadata": {
    "collapsed": false,
    "scrolled": true
   },
   "outputs": [
    {
     "data": {
      "text/html": [
       "<div>\n",
       "<table border=\"1\" class=\"dataframe\">\n",
       "  <thead>\n",
       "    <tr style=\"text-align: right;\">\n",
       "      <th></th>\n",
       "      <th>table_name</th>\n",
       "      <th>row_count</th>\n",
       "      <th>distinct_values</th>\n",
       "      <th>most_frequent_values</th>\n",
       "    </tr>\n",
       "  </thead>\n",
       "  <tbody>\n",
       "    <tr>\n",
       "      <th>3</th>\n",
       "      <td>documents_categories</td>\n",
       "      <td>5481475</td>\n",
       "      <td>2828649</td>\n",
       "      <td>{1405282,1530506,2063154,1439841,1629124,17452...</td>\n",
       "    </tr>\n",
       "    <tr>\n",
       "      <th>6</th>\n",
       "      <td>documents_meta</td>\n",
       "      <td>2999334</td>\n",
       "      <td>2999334</td>\n",
       "      <td>{1405282,2063154,1530506,1629124,1636523,16040...</td>\n",
       "    </tr>\n",
       "    <tr>\n",
       "      <th>10</th>\n",
       "      <td>documents_topics</td>\n",
       "      <td>11325960</td>\n",
       "      <td>2495423</td>\n",
       "      <td>{1033527,827899,279563,1438841,1496084,1545884...</td>\n",
       "    </tr>\n",
       "    <tr>\n",
       "      <th>15</th>\n",
       "      <td>events</td>\n",
       "      <td>23120126</td>\n",
       "      <td>894060</td>\n",
       "      <td>{1179111,394689,1827718,38922,7054,1788295,210...</td>\n",
       "    </tr>\n",
       "    <tr>\n",
       "      <th>20</th>\n",
       "      <td>page_views</td>\n",
       "      <td>2034275448</td>\n",
       "      <td>2885425</td>\n",
       "      <td>{1179111,394689,2191,7054,38922,1154100,357569...</td>\n",
       "    </tr>\n",
       "    <tr>\n",
       "      <th>26</th>\n",
       "      <td>page_views_sample</td>\n",
       "      <td>9999999</td>\n",
       "      <td>59849</td>\n",
       "      <td>{1811567,234,42744,1858440,1780813,60164,17904...</td>\n",
       "    </tr>\n",
       "    <tr>\n",
       "      <th>32</th>\n",
       "      <td>promoted_content</td>\n",
       "      <td>559583</td>\n",
       "      <td>185709</td>\n",
       "      <td>{1804537,1617964,1109881,1150712,1109919,11332...</td>\n",
       "    </tr>\n",
       "    <tr>\n",
       "      <th>37</th>\n",
       "      <td>documents_entities</td>\n",
       "      <td>5537552</td>\n",
       "      <td>1791420</td>\n",
       "      <td>{2285116,2388474,289047,2468402,1384898,277672...</td>\n",
       "    </tr>\n",
       "  </tbody>\n",
       "</table>\n",
       "</div>"
      ],
      "text/plain": [
       "              table_name   row_count  distinct_values  \\\n",
       "3   documents_categories     5481475          2828649   \n",
       "6         documents_meta     2999334          2999334   \n",
       "10      documents_topics    11325960          2495423   \n",
       "15                events    23120126           894060   \n",
       "20            page_views  2034275448          2885425   \n",
       "26     page_views_sample     9999999            59849   \n",
       "32      promoted_content      559583           185709   \n",
       "37    documents_entities     5537552          1791420   \n",
       "\n",
       "                                 most_frequent_values  \n",
       "3   {1405282,1530506,2063154,1439841,1629124,17452...  \n",
       "6   {1405282,2063154,1530506,1629124,1636523,16040...  \n",
       "10  {1033527,827899,279563,1438841,1496084,1545884...  \n",
       "15  {1179111,394689,1827718,38922,7054,1788295,210...  \n",
       "20  {1179111,394689,2191,7054,38922,1154100,357569...  \n",
       "26  {1811567,234,42744,1858440,1780813,60164,17904...  \n",
       "32  {1804537,1617964,1109881,1150712,1109919,11332...  \n",
       "37  {2285116,2388474,289047,2468402,1384898,277672...  "
      ]
     },
     "execution_count": 14,
     "metadata": {},
     "output_type": "execute_result"
    }
   ],
   "source": [
    "mask = summary['target_column']=='document_id'\n",
    "\n",
    "summary.loc[mask,['table_name','row_count','distinct_values','most_frequent_values']]"
   ]
  },
  {
   "cell_type": "markdown",
   "metadata": {},
   "source": [
    "The 'document_id' in events.csv refers to the article that a user browsed (eg: news on cnn.com).\n",
    "\n",
    "The 'document_id' in promoted_content.csv refers to the product page ('ad landing page' in web analysts' vocabulary) that a click leads to."
   ]
  },
  {
   "cell_type": "markdown",
   "metadata": {},
   "source": [
    "## 2. Evaluation (Mean Avergae Precision @ 12)"
   ]
  },
  {
   "cell_type": "markdown",
   "metadata": {},
   "source": [
    "#### Remember the MAP@12 problem we discussed on our last meeting? It has been answered in the post 'The correct order of NOT clicked ADs' on Kaggle forum."
   ]
  },
  {
   "cell_type": "markdown",
   "metadata": {},
   "source": [
    "Source: https://www.kaggle.com/c/outbrain-click-prediction/forums/t/24467/the-correct-order-of-not-clicked-ads\n",
    "\n",
    "Q: I am wondering how Outbrain (or anybody) can know the correct order of the not clicked ADs since the user clicked just a single AD from any given display_id? Probabilistic exercises are all well and good, but how the exact order can be decided apart from that?\n",
    "\n",
    "A: Average precision is independent of orders of no-click. It is all about the order/rank of the click ad : )\n",
    "   avg precision of every display_id is basically (1/1-based-position of the clicked ad). MAP is the mean of ap across all display_ids."
   ]
  },
  {
   "cell_type": "code",
   "execution_count": null,
   "metadata": {
    "collapsed": true
   },
   "outputs": [],
   "source": [
    "def apk(actual, predicted, k=12):\n",
    "    if len(predicted)>k:\n",
    "        predicted = predicted[:k]\n",
    "    score = 0.0\n",
    "    num_hits = 0.0\n",
    "    for i,p in enumerate(predicted):\n",
    "        if p in actual and p not in predicted[:i]:\n",
    "            num_hits += 1.0\n",
    "            score += num_hits / (i+1.0)\n",
    "    if not actual:\n",
    "        return 0.0\n",
    "    return score / min(len(actual), k)\n",
    "\n",
    "def mapk(actual, predicted, k=12):\n",
    "    return np.mean([apk(a,p,k) for a,p in zip(actual, predicted)])"
   ]
  },
  {
   "cell_type": "markdown",
   "metadata": {},
   "source": [
    "## 3. Geo Info"
   ]
  },
  {
   "cell_type": "markdown",
   "metadata": {},
   "source": [
    "Source: https://www.kaggle.com/andreyg/outbrain-click-prediction/explore-user-base-by-geo"
   ]
  },
  {
   "cell_type": "code",
   "execution_count": 84,
   "metadata": {
    "collapsed": false
   },
   "outputs": [],
   "source": [
    "import pycountry as pc\n",
    "\n",
    "#Generate dict to translate Alpha2 Code to Country Name\n",
    "alpha2_code = dict()\n",
    "for country in list(pc.countries):\n",
    "    alpha2_code[country.alpha2] = country.name"
   ]
  },
  {
   "cell_type": "markdown",
   "metadata": {},
   "source": [
    "#### 3.1 get country"
   ]
  },
  {
   "cell_type": "code",
   "execution_count": null,
   "metadata": {
    "collapsed": true
   },
   "outputs": [],
   "source": [
    "df = pd.read_csv(\"../input/page_views.csv\", usecols=['uuid', 'geo_location'],dtype={'uuid': np.str, 'geo_location': np.str})\n",
    "df.dropna(inplace=True)\n",
    "#Drop EU codes\n",
    "df = df.loc[~df.geo_location.isin(['EU', '--']), :]\n",
    "df = df.drop_duplicates('uuid', keep='first')\n",
    "\n",
    "df['geo_location'] = df['geo_location'].str[:2]"
   ]
  },
  {
   "cell_type": "markdown",
   "metadata": {},
   "source": [
    "#### 3.2 get state"
   ]
  },
  {
   "cell_type": "code",
   "execution_count": null,
   "metadata": {
    "collapsed": true
   },
   "outputs": [],
   "source": [
    "usa = df.loc[df.geo_location.str[:2] == 'US', :]\n",
    "\n",
    "usa.columns = ['uuid', 'State']\n",
    "\n",
    "usa.State = usa.State.str[3:5]"
   ]
  },
  {
   "cell_type": "markdown",
   "metadata": {},
   "source": [
    "## 4. Time"
   ]
  },
  {
   "cell_type": "markdown",
   "metadata": {},
   "source": [
    "#### method 1 (btw this is from the kernel 'unveiling-page-views-csv-with-pyspark'. We can look more into it after we start to study Spark on our Data Management course next week!)\n",
    "\n",
    "Source: https://github.com/gabrielspmoreira/static_resources/blob/gh-pages/Kaggle-Outbrain-PageViews_EventsAnalytics.ipynb"
   ]
  },
  {
   "cell_type": "code",
   "execution_count": null,
   "metadata": {
    "collapsed": true
   },
   "outputs": [],
   "source": [
    "from datetime import datetime\n",
    "def convert_odd_timestamp(timestamp_ms_relative):\n",
    "    TIMESTAMP_DELTA=1465876799998\n",
    "    for i in timestamp_ms_relative:\n",
    "        yield datetime.fromtimestamp((int(i)+TIMESTAMP_DELTA)//1000)\n",
    "\n",
    "for i in convert_odd_timestamp(df['timestamp'].values):\n",
    "    print i"
   ]
  },
  {
   "cell_type": "markdown",
   "metadata": {},
   "source": [
    "#### method 2"
   ]
  },
  {
   "cell_type": "code",
   "execution_count": null,
   "metadata": {
    "collapsed": true
   },
   "outputs": [],
   "source": [
    "df[\"hour\"] = (df.timestamp // (3600 * 1000)) % 24\n",
    "df[\"day\"] = df.timestamp // (3600 * 24 * 1000)"
   ]
  },
  {
   "cell_type": "markdown",
   "metadata": {},
   "source": [
    "## 5. Cross Validation"
   ]
  },
  {
   "cell_type": "markdown",
   "metadata": {},
   "source": [
    "Source: https://www.kaggle.com/c/outbrain-click-prediction/forums/t/24255/cv-vs-lb\n",
    "\n",
    "Problem: normal CV is not a representative sample from test data (Look the train/test distributions @joconnor kernel)\n",
    "\n",
    "Solution:\n",
    "1. CV using random split (estimation for 'present' data)\n",
    "2. CV using time based split (estimation for 'future' data)\n",
    "3. Final CV = weighted mean from 1 and 2"
   ]
  },
  {
   "cell_type": "markdown",
   "metadata": {},
   "source": [
    "Train: 80% of train data from day 0 to 10 \n",
    "    \n",
    "Validation: 20% of train data from day 0 to 10 + day 11 + day 12"
   ]
  },
  {
   "cell_type": "markdown",
   "metadata": {},
   "source": [
    "## 6. Leakage"
   ]
  },
  {
   "cell_type": "markdown",
   "metadata": {},
   "source": [
    "see https://www.kaggle.com/its7171/outbrain-click-prediction/leakage-solution/discussion for explanation"
   ]
  },
  {
   "cell_type": "markdown",
   "metadata": {},
   "source": [
    "These kernels go through other possible ways to get the leak:\n",
    "\n",
    "https://www.kaggle.com/its7171/outbrain-click-prediction/is-landing-access-for-ad-clicks-in-page-views-csv\n",
    "    \n",
    "https://www.kaggle.com/its7171/outbrain-click-prediction/leakage-solution/code\n",
    "    \n",
    "https://www.kaggle.com/jiweiliu/outbrain-click-prediction/extract-leak-in-30-mins-with-small-memory"
   ]
  },
  {
   "cell_type": "markdown",
   "metadata": {},
   "source": [
    "## 7. Model/algorithm we should probably pay attention to"
   ]
  },
  {
   "cell_type": "markdown",
   "metadata": {},
   "source": [
    "Source: https://www.kaggle.com/c/outbrain-click-prediction/forums/t/24595/a-war-of-ffms\n",
    "        \n",
    "@rcarson in the post 'A war of FFMs': \n",
    "\n",
    "\"For people who has only small machine like me, the key is the willingness to go low level and customized classifiers. As you all know, FFM is the nuclear weapon for CTR. Currently I'm developing my own FFM in c++. I can get 0.683 LB with 5 GB memory, 2 hours with a single FFM (excluding feature engineering time). My ffm is largely based on Libffm which is a wonderful library. I managed to improve its out of core performance and add some tricks to improve both apk and speed.\""
   ]
  },
  {
   "cell_type": "markdown",
   "metadata": {},
   "source": [
    "There is already some Python codes for implementing FFM on this competition\n",
    "\n",
    "Check https://www.kaggle.com/qqgeogor/outbrain-click-prediction/keras-based-fm"
   ]
  },
  {
   "cell_type": "markdown",
   "metadata": {},
   "source": [
    "Also, someone has written a Python wrapper for Libffm!!!\n",
    "\n",
    "https://github.com/jfloff/pywFM"
   ]
  }
 ],
 "metadata": {
  "kernelspec": {
   "display_name": "Python 2",
   "language": "python",
   "name": "python2"
  },
  "language_info": {
   "codemirror_mode": {
    "name": "ipython",
    "version": 2
   },
   "file_extension": ".py",
   "mimetype": "text/x-python",
   "name": "python",
   "nbconvert_exporter": "python",
   "pygments_lexer": "ipython2",
   "version": "2.7.11"
  }
 },
 "nbformat": 4,
 "nbformat_minor": 1
}
